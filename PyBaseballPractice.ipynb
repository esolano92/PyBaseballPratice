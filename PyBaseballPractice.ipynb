{
 "cells": [
  {
   "cell_type": "code",
   "execution_count": 56,
   "id": "e3e3c3bb",
   "metadata": {},
   "outputs": [],
   "source": [
    "import pandas as pd\n",
    "from pybaseball import statcast, playerid_lookup, statcast_batter\n",
    "import matplotlib.pyplot as plt"
   ]
  },
  {
   "cell_type": "code",
   "execution_count": 2,
   "id": "8cfaab4b",
   "metadata": {},
   "outputs": [
    {
     "name": "stdout",
     "output_type": "stream",
     "text": [
      "Gathering player lookup table. This may take a moment.\n"
     ]
    },
    {
     "data": {
      "text/html": [
       "<div>\n",
       "<style scoped>\n",
       "    .dataframe tbody tr th:only-of-type {\n",
       "        vertical-align: middle;\n",
       "    }\n",
       "\n",
       "    .dataframe tbody tr th {\n",
       "        vertical-align: top;\n",
       "    }\n",
       "\n",
       "    .dataframe thead th {\n",
       "        text-align: right;\n",
       "    }\n",
       "</style>\n",
       "<table border=\"1\" class=\"dataframe\">\n",
       "  <thead>\n",
       "    <tr style=\"text-align: right;\">\n",
       "      <th></th>\n",
       "      <th>name_last</th>\n",
       "      <th>name_first</th>\n",
       "      <th>key_mlbam</th>\n",
       "      <th>key_retro</th>\n",
       "      <th>key_bbref</th>\n",
       "      <th>key_fangraphs</th>\n",
       "      <th>mlb_played_first</th>\n",
       "      <th>mlb_played_last</th>\n",
       "    </tr>\n",
       "  </thead>\n",
       "  <tbody>\n",
       "    <tr>\n",
       "      <th>0</th>\n",
       "      <td>judge</td>\n",
       "      <td>aaron</td>\n",
       "      <td>592450</td>\n",
       "      <td>judga001</td>\n",
       "      <td>judgeaa01</td>\n",
       "      <td>15640</td>\n",
       "      <td>2016.0</td>\n",
       "      <td>2024.0</td>\n",
       "    </tr>\n",
       "  </tbody>\n",
       "</table>\n",
       "</div>"
      ],
      "text/plain": [
       "  name_last name_first  key_mlbam key_retro  key_bbref  key_fangraphs  \\\n",
       "0     judge      aaron     592450  judga001  judgeaa01          15640   \n",
       "\n",
       "   mlb_played_first  mlb_played_last  \n",
       "0            2016.0           2024.0  "
      ]
     },
     "execution_count": 2,
     "metadata": {},
     "output_type": "execute_result"
    }
   ],
   "source": [
    "playerid_lookup(\"judge\", \"aaron\")"
   ]
  },
  {
   "cell_type": "code",
   "execution_count": 19,
   "id": "cffec5e2",
   "metadata": {},
   "outputs": [
    {
     "name": "stdout",
     "output_type": "stream",
     "text": [
      "Gathering Player Data\n"
     ]
    }
   ],
   "source": [
    "aaron_judge_data = statcast_batter(\"2024-04-01\", \"2024-08-25\", player_id=\"592450\")"
   ]
  },
  {
   "cell_type": "code",
   "execution_count": 20,
   "id": "4abd8cd3",
   "metadata": {},
   "outputs": [
    {
     "name": "stdout",
     "output_type": "stream",
     "text": [
      "<class 'pandas.core.frame.DataFrame'>\n",
      "RangeIndex: 2253 entries, 0 to 2252\n",
      "Data columns (total 94 columns):\n",
      " #   Column                           Non-Null Count  Dtype  \n",
      "---  ------                           --------------  -----  \n",
      " 0   pitch_type                       2250 non-null   object \n",
      " 1   game_date                        2253 non-null   object \n",
      " 2   release_speed                    2250 non-null   float64\n",
      " 3   release_pos_x                    2250 non-null   float64\n",
      " 4   release_pos_z                    2250 non-null   float64\n",
      " 5   player_name                      2253 non-null   object \n",
      " 6   batter                           2253 non-null   int64  \n",
      " 7   pitcher                          2253 non-null   int64  \n",
      " 8   events                           537 non-null    object \n",
      " 9   description                      2253 non-null   object \n",
      " 10  spin_dir                         0 non-null      float64\n",
      " 11  spin_rate_deprecated             0 non-null      float64\n",
      " 12  break_angle_deprecated           0 non-null      float64\n",
      " 13  break_length_deprecated          0 non-null      float64\n",
      " 14  zone                             2250 non-null   float64\n",
      " 15  des                              2253 non-null   object \n",
      " 16  game_type                        2253 non-null   object \n",
      " 17  stand                            2253 non-null   object \n",
      " 18  p_throws                         2253 non-null   object \n",
      " 19  home_team                        2253 non-null   object \n",
      " 20  away_team                        2253 non-null   object \n",
      " 21  type                             2253 non-null   object \n",
      " 22  hit_location                     392 non-null    float64\n",
      " 23  bb_type                          312 non-null    object \n",
      " 24  balls                            2253 non-null   int64  \n",
      " 25  strikes                          2253 non-null   int64  \n",
      " 26  game_year                        2253 non-null   int64  \n",
      " 27  pfx_x                            2250 non-null   float64\n",
      " 28  pfx_z                            2250 non-null   float64\n",
      " 29  plate_x                          2250 non-null   float64\n",
      " 30  plate_z                          2250 non-null   float64\n",
      " 31  on_3b                            209 non-null    float64\n",
      " 32  on_2b                            383 non-null    float64\n",
      " 33  on_1b                            873 non-null    float64\n",
      " 34  outs_when_up                     2253 non-null   int64  \n",
      " 35  inning                           2253 non-null   int64  \n",
      " 36  inning_topbot                    2253 non-null   object \n",
      " 37  hc_x                             310 non-null    float64\n",
      " 38  hc_y                             310 non-null    float64\n",
      " 39  tfs_deprecated                   0 non-null      float64\n",
      " 40  tfs_zulu_deprecated              0 non-null      float64\n",
      " 41  fielder_2                        2253 non-null   int64  \n",
      " 42  umpire                           0 non-null      float64\n",
      " 43  sv_id                            0 non-null      float64\n",
      " 44  vx0                              2250 non-null   float64\n",
      " 45  vy0                              2250 non-null   float64\n",
      " 46  vz0                              2250 non-null   float64\n",
      " 47  ax                               2250 non-null   float64\n",
      " 48  ay                               2250 non-null   float64\n",
      " 49  az                               2250 non-null   float64\n",
      " 50  sz_top                           2250 non-null   float64\n",
      " 51  sz_bot                           2250 non-null   float64\n",
      " 52  hit_distance_sc                  606 non-null    float64\n",
      " 53  launch_speed                     607 non-null    float64\n",
      " 54  launch_angle                     607 non-null    float64\n",
      " 55  effective_speed                  2249 non-null   float64\n",
      " 56  release_spin_rate                2235 non-null   float64\n",
      " 57  release_extension                2250 non-null   float64\n",
      " 58  game_pk                          2253 non-null   int64  \n",
      " 59  pitcher.1                        2253 non-null   int64  \n",
      " 60  fielder_2.1                      2253 non-null   int64  \n",
      " 61  fielder_3                        2253 non-null   int64  \n",
      " 62  fielder_4                        2253 non-null   int64  \n",
      " 63  fielder_5                        2253 non-null   int64  \n",
      " 64  fielder_6                        2253 non-null   int64  \n",
      " 65  fielder_7                        2253 non-null   int64  \n",
      " 66  fielder_8                        2253 non-null   int64  \n",
      " 67  fielder_9                        2253 non-null   int64  \n",
      " 68  release_pos_y                    2250 non-null   float64\n",
      " 69  estimated_ba_using_speedangle    310 non-null    float64\n",
      " 70  estimated_woba_using_speedangle  535 non-null    float64\n",
      " 71  woba_value                       537 non-null    float64\n",
      " 72  woba_denom                       536 non-null    float64\n",
      " 73  babip_value                      537 non-null    float64\n",
      " 74  iso_value                        537 non-null    float64\n",
      " 75  launch_speed_angle               310 non-null    float64\n",
      " 76  at_bat_number                    2253 non-null   int64  \n",
      " 77  pitch_number                     2253 non-null   int64  \n",
      " 78  pitch_name                       2250 non-null   object \n",
      " 79  home_score                       2253 non-null   int64  \n",
      " 80  away_score                       2253 non-null   int64  \n",
      " 81  bat_score                        2253 non-null   int64  \n",
      " 82  fld_score                        2253 non-null   int64  \n",
      " 83  post_away_score                  2253 non-null   int64  \n",
      " 84  post_home_score                  2253 non-null   int64  \n",
      " 85  post_bat_score                   2253 non-null   int64  \n",
      " 86  post_fld_score                   2253 non-null   int64  \n",
      " 87  if_fielding_alignment            2234 non-null   object \n",
      " 88  of_fielding_alignment            2234 non-null   object \n",
      " 89  spin_axis                        2235 non-null   float64\n",
      " 90  delta_home_win_exp               2253 non-null   float64\n",
      " 91  delta_run_exp                    2253 non-null   float64\n",
      " 92  bat_speed                        874 non-null    float64\n",
      " 93  swing_length                     874 non-null    float64\n",
      "dtypes: float64(49), int64(28), object(17)\n",
      "memory usage: 1.6+ MB\n"
     ]
    }
   ],
   "source": [
    "aaron_judge_data.info()"
   ]
  },
  {
   "cell_type": "code",
   "execution_count": 55,
   "id": "86a36174",
   "metadata": {},
   "outputs": [
    {
     "data": {
      "text/html": [
       "<div>\n",
       "<style scoped>\n",
       "    .dataframe tbody tr th:only-of-type {\n",
       "        vertical-align: middle;\n",
       "    }\n",
       "\n",
       "    .dataframe tbody tr th {\n",
       "        vertical-align: top;\n",
       "    }\n",
       "\n",
       "    .dataframe thead th {\n",
       "        text-align: right;\n",
       "    }\n",
       "</style>\n",
       "<table border=\"1\" class=\"dataframe\">\n",
       "  <thead>\n",
       "    <tr style=\"text-align: right;\">\n",
       "      <th></th>\n",
       "      <th>pitch_type</th>\n",
       "      <th>game_date</th>\n",
       "      <th>release_speed</th>\n",
       "      <th>release_pos_x</th>\n",
       "      <th>release_pos_z</th>\n",
       "      <th>player_name</th>\n",
       "      <th>batter</th>\n",
       "      <th>pitcher</th>\n",
       "      <th>events</th>\n",
       "      <th>description</th>\n",
       "      <th>...</th>\n",
       "      <th>post_home_score</th>\n",
       "      <th>post_bat_score</th>\n",
       "      <th>post_fld_score</th>\n",
       "      <th>if_fielding_alignment</th>\n",
       "      <th>of_fielding_alignment</th>\n",
       "      <th>spin_axis</th>\n",
       "      <th>delta_home_win_exp</th>\n",
       "      <th>delta_run_exp</th>\n",
       "      <th>bat_speed</th>\n",
       "      <th>swing_length</th>\n",
       "    </tr>\n",
       "  </thead>\n",
       "  <tbody>\n",
       "    <tr>\n",
       "      <th>0</th>\n",
       "      <td>FS</td>\n",
       "      <td>2024-08-24</td>\n",
       "      <td>86.4</td>\n",
       "      <td>-2.59</td>\n",
       "      <td>6.23</td>\n",
       "      <td>Judge, Aaron</td>\n",
       "      <td>592450</td>\n",
       "      <td>687134</td>\n",
       "      <td>walk</td>\n",
       "      <td>ball</td>\n",
       "      <td>...</td>\n",
       "      <td>2</td>\n",
       "      <td>2</td>\n",
       "      <td>7</td>\n",
       "      <td>Strategic</td>\n",
       "      <td>Standard</td>\n",
       "      <td>214.0</td>\n",
       "      <td>0.014</td>\n",
       "      <td>0.220</td>\n",
       "      <td>NaN</td>\n",
       "      <td>NaN</td>\n",
       "    </tr>\n",
       "    <tr>\n",
       "      <th>1</th>\n",
       "      <td>FF</td>\n",
       "      <td>2024-08-24</td>\n",
       "      <td>95.3</td>\n",
       "      <td>-1.97</td>\n",
       "      <td>6.50</td>\n",
       "      <td>Judge, Aaron</td>\n",
       "      <td>592450</td>\n",
       "      <td>687134</td>\n",
       "      <td>NaN</td>\n",
       "      <td>ball</td>\n",
       "      <td>...</td>\n",
       "      <td>2</td>\n",
       "      <td>2</td>\n",
       "      <td>7</td>\n",
       "      <td>Strategic</td>\n",
       "      <td>Standard</td>\n",
       "      <td>193.0</td>\n",
       "      <td>0.000</td>\n",
       "      <td>0.067</td>\n",
       "      <td>NaN</td>\n",
       "      <td>NaN</td>\n",
       "    </tr>\n",
       "    <tr>\n",
       "      <th>2</th>\n",
       "      <td>SL</td>\n",
       "      <td>2024-08-24</td>\n",
       "      <td>85.7</td>\n",
       "      <td>-2.65</td>\n",
       "      <td>6.40</td>\n",
       "      <td>Judge, Aaron</td>\n",
       "      <td>592450</td>\n",
       "      <td>687134</td>\n",
       "      <td>NaN</td>\n",
       "      <td>swinging_strike</td>\n",
       "      <td>...</td>\n",
       "      <td>2</td>\n",
       "      <td>2</td>\n",
       "      <td>7</td>\n",
       "      <td>Strategic</td>\n",
       "      <td>Standard</td>\n",
       "      <td>89.0</td>\n",
       "      <td>0.000</td>\n",
       "      <td>-0.051</td>\n",
       "      <td>73.55127</td>\n",
       "      <td>9.42257</td>\n",
       "    </tr>\n",
       "    <tr>\n",
       "      <th>3</th>\n",
       "      <td>FS</td>\n",
       "      <td>2024-08-24</td>\n",
       "      <td>85.6</td>\n",
       "      <td>-2.62</td>\n",
       "      <td>6.24</td>\n",
       "      <td>Judge, Aaron</td>\n",
       "      <td>592450</td>\n",
       "      <td>687134</td>\n",
       "      <td>NaN</td>\n",
       "      <td>ball</td>\n",
       "      <td>...</td>\n",
       "      <td>2</td>\n",
       "      <td>2</td>\n",
       "      <td>7</td>\n",
       "      <td>Strategic</td>\n",
       "      <td>Standard</td>\n",
       "      <td>223.0</td>\n",
       "      <td>0.000</td>\n",
       "      <td>0.038</td>\n",
       "      <td>NaN</td>\n",
       "      <td>NaN</td>\n",
       "    </tr>\n",
       "    <tr>\n",
       "      <th>4</th>\n",
       "      <td>FS</td>\n",
       "      <td>2024-08-24</td>\n",
       "      <td>84.8</td>\n",
       "      <td>-2.84</td>\n",
       "      <td>6.19</td>\n",
       "      <td>Judge, Aaron</td>\n",
       "      <td>592450</td>\n",
       "      <td>687134</td>\n",
       "      <td>NaN</td>\n",
       "      <td>called_strike</td>\n",
       "      <td>...</td>\n",
       "      <td>2</td>\n",
       "      <td>2</td>\n",
       "      <td>7</td>\n",
       "      <td>Strategic</td>\n",
       "      <td>Standard</td>\n",
       "      <td>227.0</td>\n",
       "      <td>0.000</td>\n",
       "      <td>-0.031</td>\n",
       "      <td>NaN</td>\n",
       "      <td>NaN</td>\n",
       "    </tr>\n",
       "  </tbody>\n",
       "</table>\n",
       "<p>5 rows × 94 columns</p>\n",
       "</div>"
      ],
      "text/plain": [
       "  pitch_type   game_date  release_speed  release_pos_x  release_pos_z  \\\n",
       "0         FS  2024-08-24           86.4          -2.59           6.23   \n",
       "1         FF  2024-08-24           95.3          -1.97           6.50   \n",
       "2         SL  2024-08-24           85.7          -2.65           6.40   \n",
       "3         FS  2024-08-24           85.6          -2.62           6.24   \n",
       "4         FS  2024-08-24           84.8          -2.84           6.19   \n",
       "\n",
       "    player_name  batter  pitcher events      description  ...  \\\n",
       "0  Judge, Aaron  592450   687134   walk             ball  ...   \n",
       "1  Judge, Aaron  592450   687134    NaN             ball  ...   \n",
       "2  Judge, Aaron  592450   687134    NaN  swinging_strike  ...   \n",
       "3  Judge, Aaron  592450   687134    NaN             ball  ...   \n",
       "4  Judge, Aaron  592450   687134    NaN    called_strike  ...   \n",
       "\n",
       "   post_home_score  post_bat_score  post_fld_score  if_fielding_alignment  \\\n",
       "0                2               2               7              Strategic   \n",
       "1                2               2               7              Strategic   \n",
       "2                2               2               7              Strategic   \n",
       "3                2               2               7              Strategic   \n",
       "4                2               2               7              Strategic   \n",
       "\n",
       "   of_fielding_alignment spin_axis delta_home_win_exp delta_run_exp bat_speed  \\\n",
       "0               Standard     214.0              0.014         0.220       NaN   \n",
       "1               Standard     193.0              0.000         0.067       NaN   \n",
       "2               Standard      89.0              0.000        -0.051  73.55127   \n",
       "3               Standard     223.0              0.000         0.038       NaN   \n",
       "4               Standard     227.0              0.000        -0.031       NaN   \n",
       "\n",
       "  swing_length  \n",
       "0          NaN  \n",
       "1          NaN  \n",
       "2      9.42257  \n",
       "3          NaN  \n",
       "4          NaN  \n",
       "\n",
       "[5 rows x 94 columns]"
      ]
     },
     "execution_count": 55,
     "metadata": {},
     "output_type": "execute_result"
    }
   ],
   "source": [
    "aaron_judge_data.head()"
   ]
  },
  {
   "cell_type": "code",
   "execution_count": 49,
   "id": "b99af906",
   "metadata": {},
   "outputs": [],
   "source": [
    "aaron_judge_hrs = aaron_judge_data[aaron_judge_data[\"events\"] == \"home_run\"]\n"
   ]
  },
  {
   "cell_type": "code",
   "execution_count": 51,
   "id": "f25a544c",
   "metadata": {},
   "outputs": [],
   "source": [
    "aaron_judge_hrs = aaron_judge_hrs[[\"events\", \"hit_distance_sc\"]]"
   ]
  },
  {
   "cell_type": "code",
   "execution_count": 62,
   "id": "90ed1850",
   "metadata": {
    "scrolled": true
   },
   "outputs": [],
   "source": [
    "hit_distance_sc = aaron_judge_hrs[\"hit_distance_sc\"]"
   ]
  },
  {
   "cell_type": "code",
   "execution_count": 80,
   "id": "0393a784",
   "metadata": {},
   "outputs": [
    {
     "data": {
      "text/plain": [
       "count     49.000000\n",
       "mean     408.877551\n",
       "std       34.262244\n",
       "min      339.000000\n",
       "25%      380.000000\n",
       "50%      406.000000\n",
       "75%      432.000000\n",
       "max      477.000000\n",
       "Name: hit_distance_sc, dtype: float64"
      ]
     },
     "execution_count": 80,
     "metadata": {},
     "output_type": "execute_result"
    }
   ],
   "source": [
    "hit_distance_sc.describe()"
   ]
  },
  {
   "cell_type": "code",
   "execution_count": 77,
   "id": "73484cf8",
   "metadata": {},
   "outputs": [
    {
     "data": {
      "image/png": "[encoded data removed]",
      "text/plain": [
       "<Figure size 1000x600 with 2 Axes>"
      ]
     },
     "metadata": {},
     "output_type": "display_data"
    }
   ],
   "source": [
    "# Calculate Aaron Judge's average hit distance\n",
    "average_distance = hit_distance_sc.mean()\n",
    "\n",
    "# Calculate counts of home runs above and below 400 ft\n",
    "above_mean_count = (hit_distance_sc > 400).sum()\n",
    "below_mean_count = (hit_distance_sc <= 400).sum()\n",
    "\n",
    "# Create a scatter plot\n",
    "plt.figure(figsize=(10, 6))  # Set the figure size\n",
    "plt.subplot(1,2,1)\n",
    "plt.scatter(x=range(len(hit_distance_sc)), y=hit_distance_sc, color='blue', alpha=0.7)\n",
    "\n",
    "plt.title('Scatter Plot of Aaron Judge Home Run Distances')\n",
    "plt.xlabel('Home Run Index')\n",
    "plt.ylabel('Hit Distance (ft)')\n",
    "\n",
    "# Add a mean line at 400 ft\n",
    "plt.axhline(y=400, color='red', linestyle='--', linewidth=2, label='Mean Line at 400 ft')\n",
    "\n",
    "# Add a line for Aaron Judge's average hit distance\n",
    "plt.axhline(y=average_distance, color='orange', linestyle='-', linewidth=2, label=f\"Aaron Judge's Avg: {average_distance:.2f} ft\")\n",
    "\n",
    "# Add legend\n",
    "plt.legend(loc='upper right', fontsize='small', shadow=True)\n",
    "\n",
    "# Add labels and title\n",
    "plt.subplot(1,2,2)\n",
    "plt.bar(['Above 400 ft', 'Below 400 ft'], [above_mean_count, below_mean_count], color=['green', 'red'])\n",
    "plt.title('Count of Home Runs Above and Below 400 ft')\n",
    "plt.xlabel('Hit Distance Category')\n",
    "plt.ylabel('Count')\n",
    "\n",
    "\n",
    "# Show the plot\n",
    "plt.show()"
   ]
  },
  {
   "cell_type": "code",
   "execution_count": 82,
   "id": "8c430300",
   "metadata": {},
   "outputs": [
    {
     "data": {
      "text/html": [
       "<div>\n",
       "<style scoped>\n",
       "    .dataframe tbody tr th:only-of-type {\n",
       "        vertical-align: middle;\n",
       "    }\n",
       "\n",
       "    .dataframe tbody tr th {\n",
       "        vertical-align: top;\n",
       "    }\n",
       "\n",
       "    .dataframe thead th {\n",
       "        text-align: right;\n",
       "    }\n",
       "</style>\n",
       "<table border=\"1\" class=\"dataframe\">\n",
       "  <thead>\n",
       "    <tr style=\"text-align: right;\">\n",
       "      <th></th>\n",
       "      <th>name_last</th>\n",
       "      <th>name_first</th>\n",
       "      <th>key_mlbam</th>\n",
       "      <th>key_retro</th>\n",
       "      <th>key_bbref</th>\n",
       "      <th>key_fangraphs</th>\n",
       "      <th>mlb_played_first</th>\n",
       "      <th>mlb_played_last</th>\n",
       "    </tr>\n",
       "  </thead>\n",
       "  <tbody>\n",
       "    <tr>\n",
       "      <th>0</th>\n",
       "      <td>ohtani</td>\n",
       "      <td>shohei</td>\n",
       "      <td>660271</td>\n",
       "      <td>ohtas001</td>\n",
       "      <td>ohtansh01</td>\n",
       "      <td>19755</td>\n",
       "      <td>2018.0</td>\n",
       "      <td>2024.0</td>\n",
       "    </tr>\n",
       "  </tbody>\n",
       "</table>\n",
       "</div>"
      ],
      "text/plain": [
       "  name_last name_first  key_mlbam key_retro  key_bbref  key_fangraphs  \\\n",
       "0    ohtani     shohei     660271  ohtas001  ohtansh01          19755   \n",
       "\n",
       "   mlb_played_first  mlb_played_last  \n",
       "0            2018.0           2024.0  "
      ]
     },
     "execution_count": 82,
     "metadata": {},
     "output_type": "execute_result"
    }
   ],
   "source": [
    "playerid_lookup(\"ohtani\", \"shohei\")"
   ]
  },
  {
   "cell_type": "code",
   "execution_count": 83,
   "id": "32b5f2bf",
   "metadata": {},
   "outputs": [
    {
     "name": "stdout",
     "output_type": "stream",
     "text": [
      "Gathering Player Data\n"
     ]
    }
   ],
   "source": [
    "shohei_ohtani_data = statcast_batter(\"2024-04-01\", \"2024-08-25\", player_id=\"660271\")"
   ]
  },
  {
   "cell_type": "code",
   "execution_count": 84,
   "id": "c8dae422",
   "metadata": {},
   "outputs": [],
   "source": [
    "shohei_ohtani_hrs = shohei_ohtani_data[shohei_ohtani_data[\"events\"] == \"home_run\"]"
   ]
  },
  {
   "cell_type": "code",
   "execution_count": 85,
   "id": "117baa27",
   "metadata": {},
   "outputs": [],
   "source": [
    "shohei_ohtani_hrs= shohei_ohtani_hrs[[\"events\", \"hit_distance_sc\"]]"
   ]
  },
  {
   "cell_type": "code",
   "execution_count": 86,
   "id": "d588fd92",
   "metadata": {},
   "outputs": [],
   "source": [
    "hit_distance_sc = shohei_ohtani_hrs[\"hit_distance_sc\"]"
   ]
  },
  {
   "cell_type": "code",
   "execution_count": 90,
   "id": "c2bbb1dd",
   "metadata": {},
   "outputs": [
    {
     "data": {
      "text/plain": [
       "count     41.000000\n",
       "mean     414.292683\n",
       "std       35.035157\n",
       "min      338.000000\n",
       "25%      384.000000\n",
       "50%      415.000000\n",
       "75%      441.000000\n",
       "max      476.000000\n",
       "Name: hit_distance_sc, dtype: float64"
      ]
     },
     "execution_count": 90,
     "metadata": {},
     "output_type": "execute_result"
    }
   ],
   "source": [
    "hit_distance_sc.describe()"
   ]
  },
  {
   "cell_type": "code",
   "execution_count": 88,
   "id": "bce87cbe",
   "metadata": {},
   "outputs": [
    {
     "data": {
      "image/png": "[encoded data removed]",
      "text/plain": [
       "<Figure size 1000x600 with 2 Axes>"
      ]
     },
     "metadata": {},
     "output_type": "display_data"
    }
   ],
   "source": [
    "average_distance = hit_distance_sc.mean()\n",
    "\n",
    "# Calculate counts of home runs above and below 400 ft\n",
    "above_mean_count = (hit_distance_sc > 400).sum()\n",
    "below_mean_count = (hit_distance_sc <= 400).sum()\n",
    "\n",
    "# Create a scatter plot\n",
    "plt.figure(figsize=(10, 6))  # Set the figure size\n",
    "plt.subplot(1,2,1)\n",
    "plt.scatter(x=range(len(hit_distance_sc)), y=hit_distance_sc, color='blue', alpha=0.7)\n",
    "\n",
    "plt.title('Scatter Plot of Shohei Ohtani Home Run Distances')\n",
    "plt.xlabel('Home Run Index')\n",
    "plt.ylabel('Hit Distance (ft)')\n",
    "\n",
    "# Add a mean line at 400 ft\n",
    "plt.axhline(y=400, color='red', linestyle='--', linewidth=2, label='Mean Line at 400 ft')\n",
    "\n",
    "# Add a line for Aaron Judge's average hit distance\n",
    "plt.axhline(y=average_distance, color='orange', linestyle='-', linewidth=2, label=f\"Shohei Otani's Avg: {average_distance:.2f} ft\")\n",
    "\n",
    "# Add legend\n",
    "plt.legend(loc='upper right', fontsize='small', shadow=True)\n",
    "\n",
    "# Add labels and title\n",
    "plt.subplot(1,2,2)\n",
    "plt.bar(['Above 400 ft', 'Below 400 ft'], [above_mean_count, below_mean_count], color=['green', 'red'])\n",
    "plt.title('Count of Home Runs Above and Below 400 ft')\n",
    "plt.xlabel('Hit Distance Category')\n",
    "plt.ylabel('Count')\n",
    "\n",
    "\n",
    "# Show the plot\n",
    "plt.show()"
   ]
  },
  {
   "cell_type": "code",
   "execution_count": null,
   "id": "53945d92",
   "metadata": {},
   "outputs": [],
   "source": []
  },
  {
   "cell_type": "code",
   "execution_count": null,
   "id": "7f1a8bf7",
   "metadata": {},
   "outputs": [],
   "source": []
  },
  {
   "cell_type": "code",
   "execution_count": null,
   "id": "216a7dab",
   "metadata": {},
   "outputs": [],
   "source": []
  }
 ],
 "metadata": {
  "kernelspec": {
   "display_name": "Python 3 (ipykernel)",
   "language": "python",
   "name": "python3"
  },
  "language_info": {
   "codemirror_mode": {
    "name": "ipython",
    "version": 3
   },
   "file_extension": ".py",
   "mimetype": "text/x-python",
   "name": "python",
   "nbconvert_exporter": "python",
   "pygments_lexer": "ipython3",
   "version": "3.11.4"
  }
 },
 "nbformat": 4,
 "nbformat_minor": 5
}
